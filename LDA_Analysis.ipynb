{
 "cells": [
  {
   "cell_type": "markdown",
   "metadata": {},
   "source": [
    "Scrape name list of MIT EECS faculty members"
   ]
  },
  {
   "cell_type": "code",
   "execution_count": null,
   "metadata": {},
   "outputs": [],
   "source": [
    "import urllib2\n",
    "from bs4 import BeautifulSoup\n",
    "\n",
    "page = urllib2.urlopen(\"https://www.eecs.mit.edu/people/faculty-advisors\")\n",
    "soup = BeautifulSoup(page,'html.parser')\n",
    "faculty = []\n",
    "\n",
    "faculty_rows = soup.find_all('div',attrs={'class':'views-field views-field-title'})\n",
    "for i in range(len(faculty_rows)):\n",
    "    faculty.append(faculty_rows[i].getText())\n",
    "    \n",
    "\n"
   ]
  },
  {
   "cell_type": "markdown",
   "metadata": {},
   "source": [
    "Query for papers in arXiv for each faculty member and output each abstract in a separate text file. All abstract text files stored in \"paper_abstracts\" folder."
   ]
  },
  {
   "cell_type": "code",
   "execution_count": null,
   "metadata": {},
   "outputs": [],
   "source": [
    "for faculty_member in faculty:\n",
    "    first_name = faculty_member.split()[0]\n",
    "    last_name = faculty_member.split()[-1]\n",
    "    if last_name == \"Jr.\":\n",
    "        last_name = faculty_member.split()[-2] \n",
    "    search_url = \"https://\" + \"arxiv.org/find/all/1/au:+\" + last_name.encode('utf-8') + \"_\" + first_name.encode('utf-8') + \"/0/1/0/all/0/1\"\n",
    "    req = urllib2.Request(search_url, headers={'User-Agent' : 'Magic Browser'})\n",
    "    author_page = urllib2.urlopen(req)\n",
    "    html = BeautifulSoup(author_page, 'html.parser')\n",
    "    paper_rows = html.find_all('a', attrs = {'title':'Abstract'})\n",
    "    paper_number = 1\n",
    "    for paper in paper_rows:\n",
    "        identifier = paper.getText()[6:]\n",
    "        abstract_url = \"https://arxiv.org/abs/\" + identifier\n",
    "        abstract_req = urllib2.Request(abstract_url, headers={'User-Agent' : 'Magic Browser'})\n",
    "        abstract_page = urllib2.urlopen(abstract_req)\n",
    "        abstract_html = BeautifulSoup(abstract_page, 'html.parser')\n",
    "        description = abstract_html.find('blockquote', attrs = {'class':'abstract mathjax'}).getText()\n",
    "        title = abstract_html.find('h1', attrs = {'class': 'title mathjax'}).getText()\n",
    "        with open(last_name.encode('utf-8')+\"_\"+first_name.encode('utf-8')+\"_\"+str(paper_number) +\".txt\", 'w') as text_file:\n",
    "            text_file.write(title.encode('utf-8') + description.encode('utf-8'))\n",
    "        paper_number = paper_number + 1\n",
    "    "
   ]
  },
  {
   "cell_type": "markdown",
   "metadata": {},
   "source": [
    "Create list of documents and store in \"all_docs.txt\""
   ]
  },
  {
   "cell_type": "code",
   "execution_count": null,
   "metadata": {},
   "outputs": [],
   "source": [
    "import glob\n",
    "filenames = glob.glob('paper_abstracts/*.txt')\n",
    "all_docs = open('all_docs.txt','w')\n",
    "for file in filenames:\n",
    "    print>>all_docs, file"
   ]
  },
  {
   "cell_type": "markdown",
   "metadata": {},
   "source": [
    "Create dictionary of words, clean, and store in \"dictionary_clean.csv\""
   ]
  },
  {
   "cell_type": "code",
   "execution_count": null,
   "metadata": {},
   "outputs": [],
   "source": [
    "from nltk.tokenize import RegexpTokenizer\n",
    "from nltk.corpus import stopwords\n",
    "from nltk.stem.wordnet import WordNetLemmatizer\n",
    "import string\n",
    "import csv\n",
    "import nltk\n",
    "nltk.download('stopwords')\n",
    "nltk.download('wordnet')\n",
    "\n",
    "\n",
    "##EXTRACT ALL WORDS\n",
    "all_words = []\n",
    "list_of_docs = \"all_docs.txt\"\n",
    "tokenizer = RegexpTokenizer(r'\\w+')\n",
    "\n",
    "\n",
    "with open(list_of_docs, 'r') as f:\n",
    "\tdocs = f.readlines()\n",
    "\n",
    "for doc in docs:\n",
    "\tdoc_entry = doc.strip()\n",
    "\tf = open(doc_entry,'r')\n",
    "\tdoc_text = f.read()\n",
    "\traw = doc_text.lower()\n",
    "\ttokens = tokenizer.tokenize(raw)\n",
    "\tfor token in tokens:\n",
    "\t\tall_words.append(token)\n",
    "\n",
    "stopwords = set(stopwords.words('english'))\n",
    "punctuation = set(string.punctuation)\n",
    "\n",
    "\n",
    "\n",
    "##REMOVE STOPWORDS/PUNCTUATION\n",
    "dictionary_all = []\n",
    "for i in all_words:\n",
    "\tif i not in punctuation and i not in stopwords:\n",
    "\t\tdictionary_all.append(i)\n",
    "\n",
    "\n",
    "##LEMMATIZE TO REDUCE RELATED FORMS OF A WORD TO A COMMON BASE AND DEDUPE\n",
    "lemmatize = WordNetLemmatizer()\n",
    "dictionary_clean = []\n",
    "for i in dictionary_all:\n",
    "\tlemmatized_word = lemmatize.lemmatize(i.decode('utf8','ignore'))\n",
    "\tif lemmatized_word not in dictionary_clean:\n",
    "\t\tdictionary_clean.append(lemmatized_word.encode('utf8'))\n",
    "\n",
    "\n",
    "##READ TO CSV\n",
    "csvfile = \"dictionary_clean.csv\"\n",
    "with open(csvfile, 'w') as output:\n",
    "\twriter = csv.writer(output, lineterminator='\\n')\n",
    "\tfor val in dictionary_clean:\n",
    "\t\twriter.writerow([val])\n"
   ]
  }
 ],
 "metadata": {
  "kernelspec": {
   "display_name": "Python 2",
   "language": "python",
   "name": "python2"
  },
  "language_info": {
   "codemirror_mode": {
    "name": "ipython",
    "version": 2
   },
   "file_extension": ".py",
   "mimetype": "text/x-python",
   "name": "python",
   "nbconvert_exporter": "python",
   "pygments_lexer": "ipython2",
   "version": "2.7.10"
  }
 },
 "nbformat": 4,
 "nbformat_minor": 2
}
